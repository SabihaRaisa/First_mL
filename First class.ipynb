{
 "cells": [
  {
   "cell_type": "code",
   "execution_count": 9,
   "id": "6ebdeb44",
   "metadata": {},
   "outputs": [],
   "source": [
    "import numpy as np\n",
    "import pandas as pd\n",
    "import matplotlib.pyplot as plt"
   ]
  },
  {
   "cell_type": "code",
   "execution_count": 10,
   "id": "137be0a6",
   "metadata": {},
   "outputs": [],
   "source": [
    "df = pd.read_csv(\"wholesale-trade-survey-june-2023-quarter-csv.csv\")"
   ]
  },
  {
   "cell_type": "code",
   "execution_count": 11,
   "id": "0d77d2f5",
   "metadata": {},
   "outputs": [
    {
     "data": {
      "text/html": [
       "<div>\n",
       "<style scoped>\n",
       "    .dataframe tbody tr th:only-of-type {\n",
       "        vertical-align: middle;\n",
       "    }\n",
       "\n",
       "    .dataframe tbody tr th {\n",
       "        vertical-align: top;\n",
       "    }\n",
       "\n",
       "    .dataframe thead th {\n",
       "        text-align: right;\n",
       "    }\n",
       "</style>\n",
       "<table border=\"1\" class=\"dataframe\">\n",
       "  <thead>\n",
       "    <tr style=\"text-align: right;\">\n",
       "      <th></th>\n",
       "      <th>Series_reference</th>\n",
       "      <th>Period</th>\n",
       "      <th>Data_value</th>\n",
       "      <th>Suppressed</th>\n",
       "      <th>STATUS</th>\n",
       "      <th>UNITS</th>\n",
       "      <th>Magnitude</th>\n",
       "      <th>Subject</th>\n",
       "      <th>Group</th>\n",
       "      <th>Series_title_1</th>\n",
       "      <th>Series_title_2</th>\n",
       "      <th>Series_title_3</th>\n",
       "      <th>Series_title_4</th>\n",
       "      <th>Series_title_5</th>\n",
       "    </tr>\n",
       "  </thead>\n",
       "  <tbody>\n",
       "    <tr>\n",
       "      <th>0</th>\n",
       "      <td>WTSQ.SFA1CA</td>\n",
       "      <td>1995.03</td>\n",
       "      <td>2368.69</td>\n",
       "      <td>NaN</td>\n",
       "      <td>F</td>\n",
       "      <td>Dollars</td>\n",
       "      <td>6</td>\n",
       "      <td>Wholesale Trade Survey - WTS</td>\n",
       "      <td>Industry by variable - (ANZSIC06) - Subannual ...</td>\n",
       "      <td>Basic material wholesaling</td>\n",
       "      <td>Sales (operating income)</td>\n",
       "      <td>Current prices</td>\n",
       "      <td>Unadjusted</td>\n",
       "      <td>NaN</td>\n",
       "    </tr>\n",
       "    <tr>\n",
       "      <th>1</th>\n",
       "      <td>WTSQ.SFA1CA</td>\n",
       "      <td>1995.06</td>\n",
       "      <td>2100.44</td>\n",
       "      <td>NaN</td>\n",
       "      <td>F</td>\n",
       "      <td>Dollars</td>\n",
       "      <td>6</td>\n",
       "      <td>Wholesale Trade Survey - WTS</td>\n",
       "      <td>Industry by variable - (ANZSIC06) - Subannual ...</td>\n",
       "      <td>Basic material wholesaling</td>\n",
       "      <td>Sales (operating income)</td>\n",
       "      <td>Current prices</td>\n",
       "      <td>Unadjusted</td>\n",
       "      <td>NaN</td>\n",
       "    </tr>\n",
       "    <tr>\n",
       "      <th>2</th>\n",
       "      <td>WTSQ.SFA1CA</td>\n",
       "      <td>1995.09</td>\n",
       "      <td>2070.21</td>\n",
       "      <td>NaN</td>\n",
       "      <td>F</td>\n",
       "      <td>Dollars</td>\n",
       "      <td>6</td>\n",
       "      <td>Wholesale Trade Survey - WTS</td>\n",
       "      <td>Industry by variable - (ANZSIC06) - Subannual ...</td>\n",
       "      <td>Basic material wholesaling</td>\n",
       "      <td>Sales (operating income)</td>\n",
       "      <td>Current prices</td>\n",
       "      <td>Unadjusted</td>\n",
       "      <td>NaN</td>\n",
       "    </tr>\n",
       "    <tr>\n",
       "      <th>3</th>\n",
       "      <td>WTSQ.SFA1CA</td>\n",
       "      <td>1995.12</td>\n",
       "      <td>2284.77</td>\n",
       "      <td>NaN</td>\n",
       "      <td>F</td>\n",
       "      <td>Dollars</td>\n",
       "      <td>6</td>\n",
       "      <td>Wholesale Trade Survey - WTS</td>\n",
       "      <td>Industry by variable - (ANZSIC06) - Subannual ...</td>\n",
       "      <td>Basic material wholesaling</td>\n",
       "      <td>Sales (operating income)</td>\n",
       "      <td>Current prices</td>\n",
       "      <td>Unadjusted</td>\n",
       "      <td>NaN</td>\n",
       "    </tr>\n",
       "    <tr>\n",
       "      <th>4</th>\n",
       "      <td>WTSQ.SFA1CA</td>\n",
       "      <td>1996.03</td>\n",
       "      <td>2134.76</td>\n",
       "      <td>NaN</td>\n",
       "      <td>F</td>\n",
       "      <td>Dollars</td>\n",
       "      <td>6</td>\n",
       "      <td>Wholesale Trade Survey - WTS</td>\n",
       "      <td>Industry by variable - (ANZSIC06) - Subannual ...</td>\n",
       "      <td>Basic material wholesaling</td>\n",
       "      <td>Sales (operating income)</td>\n",
       "      <td>Current prices</td>\n",
       "      <td>Unadjusted</td>\n",
       "      <td>NaN</td>\n",
       "    </tr>\n",
       "    <tr>\n",
       "      <th>...</th>\n",
       "      <td>...</td>\n",
       "      <td>...</td>\n",
       "      <td>...</td>\n",
       "      <td>...</td>\n",
       "      <td>...</td>\n",
       "      <td>...</td>\n",
       "      <td>...</td>\n",
       "      <td>...</td>\n",
       "      <td>...</td>\n",
       "      <td>...</td>\n",
       "      <td>...</td>\n",
       "      <td>...</td>\n",
       "      <td>...</td>\n",
       "      <td>...</td>\n",
       "    </tr>\n",
       "    <tr>\n",
       "      <th>5229</th>\n",
       "      <td>WTSQ.SFZ9CT</td>\n",
       "      <td>2022.06</td>\n",
       "      <td>NaN</td>\n",
       "      <td>NaN</td>\n",
       "      <td>C</td>\n",
       "      <td>Dollars</td>\n",
       "      <td>6</td>\n",
       "      <td>Wholesale Trade Survey - WTS</td>\n",
       "      <td>Industry by variable - (ANZSIC06) - Subannual ...</td>\n",
       "      <td>Total wholesaling</td>\n",
       "      <td>Total stocks</td>\n",
       "      <td>Current prices</td>\n",
       "      <td>Trend</td>\n",
       "      <td>NaN</td>\n",
       "    </tr>\n",
       "    <tr>\n",
       "      <th>5230</th>\n",
       "      <td>WTSQ.SFZ9CT</td>\n",
       "      <td>2022.09</td>\n",
       "      <td>NaN</td>\n",
       "      <td>NaN</td>\n",
       "      <td>C</td>\n",
       "      <td>Dollars</td>\n",
       "      <td>6</td>\n",
       "      <td>Wholesale Trade Survey - WTS</td>\n",
       "      <td>Industry by variable - (ANZSIC06) - Subannual ...</td>\n",
       "      <td>Total wholesaling</td>\n",
       "      <td>Total stocks</td>\n",
       "      <td>Current prices</td>\n",
       "      <td>Trend</td>\n",
       "      <td>NaN</td>\n",
       "    </tr>\n",
       "    <tr>\n",
       "      <th>5231</th>\n",
       "      <td>WTSQ.SFZ9CT</td>\n",
       "      <td>2022.12</td>\n",
       "      <td>NaN</td>\n",
       "      <td>NaN</td>\n",
       "      <td>C</td>\n",
       "      <td>Dollars</td>\n",
       "      <td>6</td>\n",
       "      <td>Wholesale Trade Survey - WTS</td>\n",
       "      <td>Industry by variable - (ANZSIC06) - Subannual ...</td>\n",
       "      <td>Total wholesaling</td>\n",
       "      <td>Total stocks</td>\n",
       "      <td>Current prices</td>\n",
       "      <td>Trend</td>\n",
       "      <td>NaN</td>\n",
       "    </tr>\n",
       "    <tr>\n",
       "      <th>5232</th>\n",
       "      <td>WTSQ.SFZ9CT</td>\n",
       "      <td>2023.03</td>\n",
       "      <td>NaN</td>\n",
       "      <td>NaN</td>\n",
       "      <td>C</td>\n",
       "      <td>Dollars</td>\n",
       "      <td>6</td>\n",
       "      <td>Wholesale Trade Survey - WTS</td>\n",
       "      <td>Industry by variable - (ANZSIC06) - Subannual ...</td>\n",
       "      <td>Total wholesaling</td>\n",
       "      <td>Total stocks</td>\n",
       "      <td>Current prices</td>\n",
       "      <td>Trend</td>\n",
       "      <td>NaN</td>\n",
       "    </tr>\n",
       "    <tr>\n",
       "      <th>5233</th>\n",
       "      <td>WTSQ.SFZ9CT</td>\n",
       "      <td>2023.06</td>\n",
       "      <td>NaN</td>\n",
       "      <td>NaN</td>\n",
       "      <td>C</td>\n",
       "      <td>Dollars</td>\n",
       "      <td>6</td>\n",
       "      <td>Wholesale Trade Survey - WTS</td>\n",
       "      <td>Industry by variable - (ANZSIC06) - Subannual ...</td>\n",
       "      <td>Total wholesaling</td>\n",
       "      <td>Total stocks</td>\n",
       "      <td>Current prices</td>\n",
       "      <td>Trend</td>\n",
       "      <td>NaN</td>\n",
       "    </tr>\n",
       "  </tbody>\n",
       "</table>\n",
       "<p>5234 rows × 14 columns</p>\n",
       "</div>"
      ],
      "text/plain": [
       "     Series_reference   Period  Data_value  Suppressed STATUS    UNITS  \\\n",
       "0         WTSQ.SFA1CA  1995.03     2368.69         NaN      F  Dollars   \n",
       "1         WTSQ.SFA1CA  1995.06     2100.44         NaN      F  Dollars   \n",
       "2         WTSQ.SFA1CA  1995.09     2070.21         NaN      F  Dollars   \n",
       "3         WTSQ.SFA1CA  1995.12     2284.77         NaN      F  Dollars   \n",
       "4         WTSQ.SFA1CA  1996.03     2134.76         NaN      F  Dollars   \n",
       "...               ...      ...         ...         ...    ...      ...   \n",
       "5229      WTSQ.SFZ9CT  2022.06         NaN         NaN      C  Dollars   \n",
       "5230      WTSQ.SFZ9CT  2022.09         NaN         NaN      C  Dollars   \n",
       "5231      WTSQ.SFZ9CT  2022.12         NaN         NaN      C  Dollars   \n",
       "5232      WTSQ.SFZ9CT  2023.03         NaN         NaN      C  Dollars   \n",
       "5233      WTSQ.SFZ9CT  2023.06         NaN         NaN      C  Dollars   \n",
       "\n",
       "      Magnitude                       Subject  \\\n",
       "0             6  Wholesale Trade Survey - WTS   \n",
       "1             6  Wholesale Trade Survey - WTS   \n",
       "2             6  Wholesale Trade Survey - WTS   \n",
       "3             6  Wholesale Trade Survey - WTS   \n",
       "4             6  Wholesale Trade Survey - WTS   \n",
       "...         ...                           ...   \n",
       "5229          6  Wholesale Trade Survey - WTS   \n",
       "5230          6  Wholesale Trade Survey - WTS   \n",
       "5231          6  Wholesale Trade Survey - WTS   \n",
       "5232          6  Wholesale Trade Survey - WTS   \n",
       "5233          6  Wholesale Trade Survey - WTS   \n",
       "\n",
       "                                                  Group  \\\n",
       "0     Industry by variable - (ANZSIC06) - Subannual ...   \n",
       "1     Industry by variable - (ANZSIC06) - Subannual ...   \n",
       "2     Industry by variable - (ANZSIC06) - Subannual ...   \n",
       "3     Industry by variable - (ANZSIC06) - Subannual ...   \n",
       "4     Industry by variable - (ANZSIC06) - Subannual ...   \n",
       "...                                                 ...   \n",
       "5229  Industry by variable - (ANZSIC06) - Subannual ...   \n",
       "5230  Industry by variable - (ANZSIC06) - Subannual ...   \n",
       "5231  Industry by variable - (ANZSIC06) - Subannual ...   \n",
       "5232  Industry by variable - (ANZSIC06) - Subannual ...   \n",
       "5233  Industry by variable - (ANZSIC06) - Subannual ...   \n",
       "\n",
       "                  Series_title_1            Series_title_2  Series_title_3  \\\n",
       "0     Basic material wholesaling  Sales (operating income)  Current prices   \n",
       "1     Basic material wholesaling  Sales (operating income)  Current prices   \n",
       "2     Basic material wholesaling  Sales (operating income)  Current prices   \n",
       "3     Basic material wholesaling  Sales (operating income)  Current prices   \n",
       "4     Basic material wholesaling  Sales (operating income)  Current prices   \n",
       "...                          ...                       ...             ...   \n",
       "5229           Total wholesaling              Total stocks  Current prices   \n",
       "5230           Total wholesaling              Total stocks  Current prices   \n",
       "5231           Total wholesaling              Total stocks  Current prices   \n",
       "5232           Total wholesaling              Total stocks  Current prices   \n",
       "5233           Total wholesaling              Total stocks  Current prices   \n",
       "\n",
       "     Series_title_4 Series_title_5  \n",
       "0        Unadjusted            NaN  \n",
       "1        Unadjusted            NaN  \n",
       "2        Unadjusted            NaN  \n",
       "3        Unadjusted            NaN  \n",
       "4        Unadjusted            NaN  \n",
       "...             ...            ...  \n",
       "5229          Trend            NaN  \n",
       "5230          Trend            NaN  \n",
       "5231          Trend            NaN  \n",
       "5232          Trend            NaN  \n",
       "5233          Trend            NaN  \n",
       "\n",
       "[5234 rows x 14 columns]"
      ]
     },
     "execution_count": 11,
     "metadata": {},
     "output_type": "execute_result"
    }
   ],
   "source": [
    "df"
   ]
  },
  {
   "cell_type": "code",
   "execution_count": 24,
   "id": "2d945f74",
   "metadata": {},
   "outputs": [],
   "source": [
    "df2 = pd.read_csv(\"car driving risk analysis.csv\")"
   ]
  },
  {
   "cell_type": "code",
   "execution_count": 25,
   "id": "eb173b80",
   "metadata": {},
   "outputs": [
    {
     "data": {
      "text/html": [
       "<div>\n",
       "<style scoped>\n",
       "    .dataframe tbody tr th:only-of-type {\n",
       "        vertical-align: middle;\n",
       "    }\n",
       "\n",
       "    .dataframe tbody tr th {\n",
       "        vertical-align: top;\n",
       "    }\n",
       "\n",
       "    .dataframe thead th {\n",
       "        text-align: right;\n",
       "    }\n",
       "</style>\n",
       "<table border=\"1\" class=\"dataframe\">\n",
       "  <thead>\n",
       "    <tr style=\"text-align: right;\">\n",
       "      <th></th>\n",
       "      <th>speed</th>\n",
       "      <th>risk</th>\n",
       "    </tr>\n",
       "  </thead>\n",
       "  <tbody>\n",
       "    <tr>\n",
       "      <th>0</th>\n",
       "      <td>200</td>\n",
       "      <td>95</td>\n",
       "    </tr>\n",
       "    <tr>\n",
       "      <th>1</th>\n",
       "      <td>90</td>\n",
       "      <td>20</td>\n",
       "    </tr>\n",
       "    <tr>\n",
       "      <th>2</th>\n",
       "      <td>300</td>\n",
       "      <td>98</td>\n",
       "    </tr>\n",
       "    <tr>\n",
       "      <th>3</th>\n",
       "      <td>110</td>\n",
       "      <td>60</td>\n",
       "    </tr>\n",
       "    <tr>\n",
       "      <th>4</th>\n",
       "      <td>240</td>\n",
       "      <td>72</td>\n",
       "    </tr>\n",
       "    <tr>\n",
       "      <th>5</th>\n",
       "      <td>115</td>\n",
       "      <td>10</td>\n",
       "    </tr>\n",
       "    <tr>\n",
       "      <th>6</th>\n",
       "      <td>50</td>\n",
       "      <td>7</td>\n",
       "    </tr>\n",
       "    <tr>\n",
       "      <th>7</th>\n",
       "      <td>230</td>\n",
       "      <td>85</td>\n",
       "    </tr>\n",
       "    <tr>\n",
       "      <th>8</th>\n",
       "      <td>190</td>\n",
       "      <td>45</td>\n",
       "    </tr>\n",
       "    <tr>\n",
       "      <th>9</th>\n",
       "      <td>260</td>\n",
       "      <td>91</td>\n",
       "    </tr>\n",
       "    <tr>\n",
       "      <th>10</th>\n",
       "      <td>290</td>\n",
       "      <td>82</td>\n",
       "    </tr>\n",
       "    <tr>\n",
       "      <th>11</th>\n",
       "      <td>185</td>\n",
       "      <td>59</td>\n",
       "    </tr>\n",
       "    <tr>\n",
       "      <th>12</th>\n",
       "      <td>310</td>\n",
       "      <td>93</td>\n",
       "    </tr>\n",
       "    <tr>\n",
       "      <th>13</th>\n",
       "      <td>95</td>\n",
       "      <td>18</td>\n",
       "    </tr>\n",
       "    <tr>\n",
       "      <th>14</th>\n",
       "      <td>30</td>\n",
       "      <td>2</td>\n",
       "    </tr>\n",
       "  </tbody>\n",
       "</table>\n",
       "</div>"
      ],
      "text/plain": [
       "    speed  risk\n",
       "0     200    95\n",
       "1      90    20\n",
       "2     300    98\n",
       "3     110    60\n",
       "4     240    72\n",
       "5     115    10\n",
       "6      50     7\n",
       "7     230    85\n",
       "8     190    45\n",
       "9     260    91\n",
       "10    290    82\n",
       "11    185    59\n",
       "12    310    93\n",
       "13     95    18\n",
       "14     30     2"
      ]
     },
     "execution_count": 25,
     "metadata": {},
     "output_type": "execute_result"
    }
   ],
   "source": [
    "df2"
   ]
  },
  {
   "cell_type": "code",
   "execution_count": 12,
   "id": "fbf1566a",
   "metadata": {},
   "outputs": [
    {
     "data": {
      "text/plain": [
       "(5234, 14)"
      ]
     },
     "execution_count": 12,
     "metadata": {},
     "output_type": "execute_result"
    }
   ],
   "source": [
    "df.shape"
   ]
  },
  {
   "cell_type": "code",
   "execution_count": 14,
   "id": "469a20b9",
   "metadata": {},
   "outputs": [
    {
     "data": {
      "text/html": [
       "<div>\n",
       "<style scoped>\n",
       "    .dataframe tbody tr th:only-of-type {\n",
       "        vertical-align: middle;\n",
       "    }\n",
       "\n",
       "    .dataframe tbody tr th {\n",
       "        vertical-align: top;\n",
       "    }\n",
       "\n",
       "    .dataframe thead th {\n",
       "        text-align: right;\n",
       "    }\n",
       "</style>\n",
       "<table border=\"1\" class=\"dataframe\">\n",
       "  <thead>\n",
       "    <tr style=\"text-align: right;\">\n",
       "      <th></th>\n",
       "      <th>Series_reference</th>\n",
       "      <th>Period</th>\n",
       "      <th>Data_value</th>\n",
       "      <th>Suppressed</th>\n",
       "      <th>STATUS</th>\n",
       "      <th>UNITS</th>\n",
       "      <th>Magnitude</th>\n",
       "      <th>Subject</th>\n",
       "      <th>Group</th>\n",
       "      <th>Series_title_1</th>\n",
       "      <th>Series_title_2</th>\n",
       "      <th>Series_title_3</th>\n",
       "      <th>Series_title_4</th>\n",
       "      <th>Series_title_5</th>\n",
       "    </tr>\n",
       "  </thead>\n",
       "  <tbody>\n",
       "    <tr>\n",
       "      <th>0</th>\n",
       "      <td>WTSQ.SFA1CA</td>\n",
       "      <td>1995.03</td>\n",
       "      <td>2368.69</td>\n",
       "      <td>NaN</td>\n",
       "      <td>F</td>\n",
       "      <td>Dollars</td>\n",
       "      <td>6</td>\n",
       "      <td>Wholesale Trade Survey - WTS</td>\n",
       "      <td>Industry by variable - (ANZSIC06) - Subannual ...</td>\n",
       "      <td>Basic material wholesaling</td>\n",
       "      <td>Sales (operating income)</td>\n",
       "      <td>Current prices</td>\n",
       "      <td>Unadjusted</td>\n",
       "      <td>NaN</td>\n",
       "    </tr>\n",
       "    <tr>\n",
       "      <th>1</th>\n",
       "      <td>WTSQ.SFA1CA</td>\n",
       "      <td>1995.06</td>\n",
       "      <td>2100.44</td>\n",
       "      <td>NaN</td>\n",
       "      <td>F</td>\n",
       "      <td>Dollars</td>\n",
       "      <td>6</td>\n",
       "      <td>Wholesale Trade Survey - WTS</td>\n",
       "      <td>Industry by variable - (ANZSIC06) - Subannual ...</td>\n",
       "      <td>Basic material wholesaling</td>\n",
       "      <td>Sales (operating income)</td>\n",
       "      <td>Current prices</td>\n",
       "      <td>Unadjusted</td>\n",
       "      <td>NaN</td>\n",
       "    </tr>\n",
       "    <tr>\n",
       "      <th>2</th>\n",
       "      <td>WTSQ.SFA1CA</td>\n",
       "      <td>1995.09</td>\n",
       "      <td>2070.21</td>\n",
       "      <td>NaN</td>\n",
       "      <td>F</td>\n",
       "      <td>Dollars</td>\n",
       "      <td>6</td>\n",
       "      <td>Wholesale Trade Survey - WTS</td>\n",
       "      <td>Industry by variable - (ANZSIC06) - Subannual ...</td>\n",
       "      <td>Basic material wholesaling</td>\n",
       "      <td>Sales (operating income)</td>\n",
       "      <td>Current prices</td>\n",
       "      <td>Unadjusted</td>\n",
       "      <td>NaN</td>\n",
       "    </tr>\n",
       "  </tbody>\n",
       "</table>\n",
       "</div>"
      ],
      "text/plain": [
       "  Series_reference   Period  Data_value  Suppressed STATUS    UNITS  \\\n",
       "0      WTSQ.SFA1CA  1995.03     2368.69         NaN      F  Dollars   \n",
       "1      WTSQ.SFA1CA  1995.06     2100.44         NaN      F  Dollars   \n",
       "2      WTSQ.SFA1CA  1995.09     2070.21         NaN      F  Dollars   \n",
       "\n",
       "   Magnitude                       Subject  \\\n",
       "0          6  Wholesale Trade Survey - WTS   \n",
       "1          6  Wholesale Trade Survey - WTS   \n",
       "2          6  Wholesale Trade Survey - WTS   \n",
       "\n",
       "                                               Group  \\\n",
       "0  Industry by variable - (ANZSIC06) - Subannual ...   \n",
       "1  Industry by variable - (ANZSIC06) - Subannual ...   \n",
       "2  Industry by variable - (ANZSIC06) - Subannual ...   \n",
       "\n",
       "               Series_title_1            Series_title_2  Series_title_3  \\\n",
       "0  Basic material wholesaling  Sales (operating income)  Current prices   \n",
       "1  Basic material wholesaling  Sales (operating income)  Current prices   \n",
       "2  Basic material wholesaling  Sales (operating income)  Current prices   \n",
       "\n",
       "  Series_title_4 Series_title_5  \n",
       "0     Unadjusted            NaN  \n",
       "1     Unadjusted            NaN  \n",
       "2     Unadjusted            NaN  "
      ]
     },
     "execution_count": 14,
     "metadata": {},
     "output_type": "execute_result"
    }
   ],
   "source": [
    "df.head(3)"
   ]
  },
  {
   "cell_type": "code",
   "execution_count": 15,
   "id": "3c345a56",
   "metadata": {},
   "outputs": [
    {
     "data": {
      "text/plain": [
       "Series_reference    False\n",
       "Period              False\n",
       "Data_value           True\n",
       "Suppressed           True\n",
       "STATUS              False\n",
       "UNITS               False\n",
       "Magnitude           False\n",
       "Subject             False\n",
       "Group               False\n",
       "Series_title_1      False\n",
       "Series_title_2      False\n",
       "Series_title_3      False\n",
       "Series_title_4      False\n",
       "Series_title_5       True\n",
       "dtype: bool"
      ]
     },
     "execution_count": 15,
     "metadata": {},
     "output_type": "execute_result"
    }
   ],
   "source": [
    "df.isnull().any()"
   ]
  },
  {
   "cell_type": "code",
   "execution_count": 16,
   "id": "cd9bb1c0",
   "metadata": {},
   "outputs": [
    {
     "data": {
      "text/plain": [
       "Series_reference       0\n",
       "Period                 0\n",
       "Data_value           196\n",
       "Suppressed          5234\n",
       "STATUS                 0\n",
       "UNITS                  0\n",
       "Magnitude              0\n",
       "Subject                0\n",
       "Group                  0\n",
       "Series_title_1         0\n",
       "Series_title_2         0\n",
       "Series_title_3         0\n",
       "Series_title_4         0\n",
       "Series_title_5      4788\n",
       "dtype: int64"
      ]
     },
     "execution_count": 16,
     "metadata": {},
     "output_type": "execute_result"
    }
   ],
   "source": [
    "df.isnull().sum()"
   ]
  },
  {
   "cell_type": "markdown",
   "id": "f35d2f09",
   "metadata": {},
   "source": [
    "# Visulation"
   ]
  },
  {
   "cell_type": "code",
   "execution_count": 20,
   "id": "95580ff0",
   "metadata": {},
   "outputs": [],
   "source": [
    "x= df[[\"Series_reference\"]]\n",
    "y=df[\"Period\"]"
   ]
  },
  {
   "cell_type": "code",
   "execution_count": 21,
   "id": "ec247bf0",
   "metadata": {},
   "outputs": [
    {
     "data": {
      "text/html": [
       "<div>\n",
       "<style scoped>\n",
       "    .dataframe tbody tr th:only-of-type {\n",
       "        vertical-align: middle;\n",
       "    }\n",
       "\n",
       "    .dataframe tbody tr th {\n",
       "        vertical-align: top;\n",
       "    }\n",
       "\n",
       "    .dataframe thead th {\n",
       "        text-align: right;\n",
       "    }\n",
       "</style>\n",
       "<table border=\"1\" class=\"dataframe\">\n",
       "  <thead>\n",
       "    <tr style=\"text-align: right;\">\n",
       "      <th></th>\n",
       "      <th>Series_reference</th>\n",
       "    </tr>\n",
       "  </thead>\n",
       "  <tbody>\n",
       "    <tr>\n",
       "      <th>0</th>\n",
       "      <td>WTSQ.SFA1CA</td>\n",
       "    </tr>\n",
       "    <tr>\n",
       "      <th>1</th>\n",
       "      <td>WTSQ.SFA1CA</td>\n",
       "    </tr>\n",
       "    <tr>\n",
       "      <th>2</th>\n",
       "      <td>WTSQ.SFA1CA</td>\n",
       "    </tr>\n",
       "    <tr>\n",
       "      <th>3</th>\n",
       "      <td>WTSQ.SFA1CA</td>\n",
       "    </tr>\n",
       "    <tr>\n",
       "      <th>4</th>\n",
       "      <td>WTSQ.SFA1CA</td>\n",
       "    </tr>\n",
       "    <tr>\n",
       "      <th>...</th>\n",
       "      <td>...</td>\n",
       "    </tr>\n",
       "    <tr>\n",
       "      <th>5229</th>\n",
       "      <td>WTSQ.SFZ9CT</td>\n",
       "    </tr>\n",
       "    <tr>\n",
       "      <th>5230</th>\n",
       "      <td>WTSQ.SFZ9CT</td>\n",
       "    </tr>\n",
       "    <tr>\n",
       "      <th>5231</th>\n",
       "      <td>WTSQ.SFZ9CT</td>\n",
       "    </tr>\n",
       "    <tr>\n",
       "      <th>5232</th>\n",
       "      <td>WTSQ.SFZ9CT</td>\n",
       "    </tr>\n",
       "    <tr>\n",
       "      <th>5233</th>\n",
       "      <td>WTSQ.SFZ9CT</td>\n",
       "    </tr>\n",
       "  </tbody>\n",
       "</table>\n",
       "<p>5234 rows × 1 columns</p>\n",
       "</div>"
      ],
      "text/plain": [
       "     Series_reference\n",
       "0         WTSQ.SFA1CA\n",
       "1         WTSQ.SFA1CA\n",
       "2         WTSQ.SFA1CA\n",
       "3         WTSQ.SFA1CA\n",
       "4         WTSQ.SFA1CA\n",
       "...               ...\n",
       "5229      WTSQ.SFZ9CT\n",
       "5230      WTSQ.SFZ9CT\n",
       "5231      WTSQ.SFZ9CT\n",
       "5232      WTSQ.SFZ9CT\n",
       "5233      WTSQ.SFZ9CT\n",
       "\n",
       "[5234 rows x 1 columns]"
      ]
     },
     "execution_count": 21,
     "metadata": {},
     "output_type": "execute_result"
    }
   ],
   "source": [
    "x"
   ]
  },
  {
   "cell_type": "code",
   "execution_count": 22,
   "id": "2d754cde",
   "metadata": {},
   "outputs": [
    {
     "data": {
      "text/plain": [
       "0       1995.03\n",
       "1       1995.06\n",
       "2       1995.09\n",
       "3       1995.12\n",
       "4       1996.03\n",
       "         ...   \n",
       "5229    2022.06\n",
       "5230    2022.09\n",
       "5231    2022.12\n",
       "5232    2023.03\n",
       "5233    2023.06\n",
       "Name: Period, Length: 5234, dtype: float64"
      ]
     },
     "execution_count": 22,
     "metadata": {},
     "output_type": "execute_result"
    }
   ],
   "source": [
    "y"
   ]
  },
  {
   "cell_type": "code",
   "execution_count": 23,
   "id": "6dd635f3",
   "metadata": {},
   "outputs": [
    {
     "data": {
      "text/plain": [
       "<matplotlib.collections.PathCollection at 0x2197886a340>"
      ]
     },
     "execution_count": 23,
     "metadata": {},
     "output_type": "execute_result"
    },
    {
     "data": {
      "image/png": "[encoded data removed]",
      "text/plain": [
       "<Figure size 432x288 with 1 Axes>"
      ]
     },
     "metadata": {
      "needs_background": "light"
     },
     "output_type": "display_data"
    }
   ],
   "source": [
    "plt.scatter(df[\"Series_reference\"],df[\"Period\"])"
   ]
  },
  {
   "cell_type": "code",
   "execution_count": 33,
   "id": "4c9d6303",
   "metadata": {},
   "outputs": [
    {
     "data": {
      "text/plain": [
       "Text(0.5, 1.0, 'we are machine engineer')"
      ]
     },
     "execution_count": 33,
     "metadata": {},
     "output_type": "execute_result"
    },
    {
     "data": {
      "image/png": "[encoded data removed]",
      "text/plain": [
       "<Figure size 432x288 with 1 Axes>"
      ]
     },
     "metadata": {
      "needs_background": "light"
     },
     "output_type": "display_data"
    }
   ],
   "source": [
    "plt.scatter(df2[\"speed\"],df2[\"risk\"],marker=\"+\",color=\"green\")\n",
    "plt.xlabel(\"x------> speed\")\n",
    "plt.ylabel(\"y------> risk\")\n",
    "plt.title(\"we are machine engineer\")"
   ]
  },
  {
   "cell_type": "code",
   "execution_count": 46,
   "id": "01002c31",
   "metadata": {},
   "outputs": [],
   "source": [
    "x= df2[[\"speed\"]]\n",
    "y=df2[\"risk\"]"
   ]
  },
  {
   "cell_type": "code",
   "execution_count": 47,
   "id": "b2f4898a",
   "metadata": {},
   "outputs": [],
   "source": [
    "from sklearn.model_selection import train_test_split"
   ]
  },
  {
   "cell_type": "code",
   "execution_count": 48,
   "id": "52829aac",
   "metadata": {},
   "outputs": [],
   "source": [
    "xtrain,xtest,ytrain,ytest = train_test_split(x,y,test_size=.3,random_state=1)"
   ]
  },
  {
   "cell_type": "code",
   "execution_count": 49,
   "id": "fdd89b37",
   "metadata": {},
   "outputs": [
    {
     "data": {
      "text/html": [
       "<div>\n",
       "<style scoped>\n",
       "    .dataframe tbody tr th:only-of-type {\n",
       "        vertical-align: middle;\n",
       "    }\n",
       "\n",
       "    .dataframe tbody tr th {\n",
       "        vertical-align: top;\n",
       "    }\n",
       "\n",
       "    .dataframe thead th {\n",
       "        text-align: right;\n",
       "    }\n",
       "</style>\n",
       "<table border=\"1\" class=\"dataframe\">\n",
       "  <thead>\n",
       "    <tr style=\"text-align: right;\">\n",
       "      <th></th>\n",
       "      <th>speed</th>\n",
       "    </tr>\n",
       "  </thead>\n",
       "  <tbody>\n",
       "    <tr>\n",
       "      <th>4</th>\n",
       "      <td>240</td>\n",
       "    </tr>\n",
       "    <tr>\n",
       "      <th>1</th>\n",
       "      <td>90</td>\n",
       "    </tr>\n",
       "    <tr>\n",
       "      <th>13</th>\n",
       "      <td>95</td>\n",
       "    </tr>\n",
       "    <tr>\n",
       "      <th>0</th>\n",
       "      <td>200</td>\n",
       "    </tr>\n",
       "    <tr>\n",
       "      <th>14</th>\n",
       "      <td>30</td>\n",
       "    </tr>\n",
       "    <tr>\n",
       "      <th>9</th>\n",
       "      <td>260</td>\n",
       "    </tr>\n",
       "    <tr>\n",
       "      <th>8</th>\n",
       "      <td>190</td>\n",
       "    </tr>\n",
       "    <tr>\n",
       "      <th>12</th>\n",
       "      <td>310</td>\n",
       "    </tr>\n",
       "    <tr>\n",
       "      <th>11</th>\n",
       "      <td>185</td>\n",
       "    </tr>\n",
       "    <tr>\n",
       "      <th>5</th>\n",
       "      <td>115</td>\n",
       "    </tr>\n",
       "  </tbody>\n",
       "</table>\n",
       "</div>"
      ],
      "text/plain": [
       "    speed\n",
       "4     240\n",
       "1      90\n",
       "13     95\n",
       "0     200\n",
       "14     30\n",
       "9     260\n",
       "8     190\n",
       "12    310\n",
       "11    185\n",
       "5     115"
      ]
     },
     "execution_count": 49,
     "metadata": {},
     "output_type": "execute_result"
    }
   ],
   "source": [
    "xtrain"
   ]
  },
  {
   "cell_type": "code",
   "execution_count": 57,
   "id": "00c0e666",
   "metadata": {},
   "outputs": [
    {
     "data": {
      "text/html": [
       "<div>\n",
       "<style scoped>\n",
       "    .dataframe tbody tr th:only-of-type {\n",
       "        vertical-align: middle;\n",
       "    }\n",
       "\n",
       "    .dataframe tbody tr th {\n",
       "        vertical-align: top;\n",
       "    }\n",
       "\n",
       "    .dataframe thead th {\n",
       "        text-align: right;\n",
       "    }\n",
       "</style>\n",
       "<table border=\"1\" class=\"dataframe\">\n",
       "  <thead>\n",
       "    <tr style=\"text-align: right;\">\n",
       "      <th></th>\n",
       "      <th>speed</th>\n",
       "    </tr>\n",
       "  </thead>\n",
       "  <tbody>\n",
       "    <tr>\n",
       "      <th>3</th>\n",
       "      <td>110</td>\n",
       "    </tr>\n",
       "    <tr>\n",
       "      <th>7</th>\n",
       "      <td>230</td>\n",
       "    </tr>\n",
       "    <tr>\n",
       "      <th>6</th>\n",
       "      <td>50</td>\n",
       "    </tr>\n",
       "    <tr>\n",
       "      <th>2</th>\n",
       "      <td>300</td>\n",
       "    </tr>\n",
       "    <tr>\n",
       "      <th>10</th>\n",
       "      <td>290</td>\n",
       "    </tr>\n",
       "  </tbody>\n",
       "</table>\n",
       "</div>"
      ],
      "text/plain": [
       "    speed\n",
       "3     110\n",
       "7     230\n",
       "6      50\n",
       "2     300\n",
       "10    290"
      ]
     },
     "execution_count": 57,
     "metadata": {},
     "output_type": "execute_result"
    }
   ],
   "source": [
    "xtest"
   ]
  },
  {
   "cell_type": "code",
   "execution_count": 56,
   "id": "b1f8337a",
   "metadata": {},
   "outputs": [],
   "source": [
    "from sklearn.linear_model import LinearRegression"
   ]
  },
  {
   "cell_type": "code",
   "execution_count": 52,
   "id": "ed8523c5",
   "metadata": {},
   "outputs": [],
   "source": [
    "reg = LinearRegression()"
   ]
  },
  {
   "cell_type": "code",
   "execution_count": 55,
   "id": "2549261e",
   "metadata": {},
   "outputs": [
    {
     "data": {
      "text/plain": [
       "LinearRegression()"
      ]
     },
     "execution_count": 55,
     "metadata": {},
     "output_type": "execute_result"
    }
   ],
   "source": [
    "reg.fit(xtrain,ytrain)"
   ]
  },
  {
   "cell_type": "code",
   "execution_count": 59,
   "id": "aaea2e13",
   "metadata": {},
   "outputs": [
    {
     "data": {
      "text/plain": [
       "array([26.93182066, 72.91851205,  3.93847496, 99.74408203, 95.91185775])"
      ]
     },
     "execution_count": 59,
     "metadata": {},
     "output_type": "execute_result"
    }
   ],
   "source": [
    "reg.predict(xtest)"
   ]
  },
  {
   "cell_type": "code",
   "execution_count": 60,
   "id": "f5cbdd37",
   "metadata": {},
   "outputs": [
    {
     "data": {
      "text/plain": [
       "3     60\n",
       "7     85\n",
       "6      7\n",
       "2     98\n",
       "10    82\n",
       "Name: risk, dtype: int64"
      ]
     },
     "execution_count": 60,
     "metadata": {},
     "output_type": "execute_result"
    }
   ],
   "source": [
    "ytest"
   ]
  },
  {
   "cell_type": "code",
   "execution_count": 64,
   "id": "e566a579",
   "metadata": {},
   "outputs": [
    {
     "data": {
      "text/plain": [
       "[<matplotlib.lines.Line2D at 0x2197a301430>]"
      ]
     },
     "execution_count": 64,
     "metadata": {},
     "output_type": "execute_result"
    },
    {
     "data": {
      "image/png": "[encoded data removed]",
      "text/plain": [
       "<Figure size 432x288 with 1 Axes>"
      ]
     },
     "metadata": {
      "needs_background": "light"
     },
     "output_type": "display_data"
    }
   ],
   "source": [
    "plt.xlabel(\"x------> speed\")\n",
    "plt.ylabel(\"y------> risk\")\n",
    "plt.title(\"we are machine engineer\")\n",
    "plt.plot(df2.speed,reg.predict(df2[[\"speed\"]]))\n"
   ]
  },
  {
   "cell_type": "code",
   "execution_count": 67,
   "id": "babbfcb6",
   "metadata": {},
   "outputs": [
    {
     "data": {
      "text/plain": [
       "array([2156.11563216])"
      ]
     },
     "execution_count": 67,
     "metadata": {},
     "output_type": "execute_result"
    }
   ],
   "source": [
    "reg.predict([[5666]]) #x"
   ]
  },
  {
   "cell_type": "code",
   "execution_count": 68,
   "id": "2440ec32",
   "metadata": {},
   "outputs": [
    {
     "data": {
      "text/plain": [
       "array([0.38322243])"
      ]
     },
     "execution_count": 68,
     "metadata": {},
     "output_type": "execute_result"
    }
   ],
   "source": [
    "reg.coef_ #m"
   ]
  },
  {
   "cell_type": "code",
   "execution_count": 69,
   "id": "ae34506b",
   "metadata": {},
   "outputs": [
    {
     "data": {
      "text/plain": [
       "-15.222646449220008"
      ]
     },
     "execution_count": 69,
     "metadata": {},
     "output_type": "execute_result"
    }
   ],
   "source": [
    "reg.intercept_ #c"
   ]
  },
  {
   "cell_type": "code",
   "execution_count": 70,
   "id": "1ef7e659",
   "metadata": {},
   "outputs": [],
   "source": [
    "y=0.38322243*5666+(-15.222646449220008)"
   ]
  },
  {
   "cell_type": "code",
   "execution_count": 71,
   "id": "f5405b4c",
   "metadata": {},
   "outputs": [
    {
     "data": {
      "text/plain": [
       "2156.11564193078"
      ]
     },
     "execution_count": 71,
     "metadata": {},
     "output_type": "execute_result"
    }
   ],
   "source": [
    "y"
   ]
  }
 ],
 "metadata": {
  "kernelspec": {
   "display_name": "Python 3 (ipykernel)",
   "language": "python",
   "name": "python3"
  },
  "language_info": {
   "codemirror_mode": {
    "name": "ipython",
    "version": 3
   },
   "file_extension": ".py",
   "mimetype": "text/x-python",
   "name": "python",
   "nbconvert_exporter": "python",
   "pygments_lexer": "ipython3",
   "version": "3.9.7"
  }
 },
 "nbformat": 4,
 "nbformat_minor": 5
}
